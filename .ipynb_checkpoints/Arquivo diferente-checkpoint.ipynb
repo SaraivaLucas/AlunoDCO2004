{
 "cells": [
  {
<<<<<<< HEAD
   "cell_type": "markdown",
   "metadata": {},
   "source": [
    "Diferença"
   ]
  },
  {
=======
>>>>>>> Teste_branch
   "cell_type": "code",
   "execution_count": null,
   "metadata": {
    "collapsed": true
   },
   "outputs": [],
   "source": []
  }
 ],
 "metadata": {
  "kernelspec": {
   "display_name": "Matlab",
   "language": "matlab",
   "name": "matlab"
<<<<<<< HEAD
  },
  "language_info": {
   "codemirror_mode": "octave",
   "file_extension": ".m",
   "help_links": [
    {
     "text": "MetaKernel Magics",
     "url": "https://github.com/calysto/metakernel/blob/master/metakernel/magics/README.md"
    }
   ],
   "mimetype": "text/x-matlab",
   "name": "matlab",
   "version": "0.14.3"
=======
>>>>>>> Teste_branch
  }
 },
 "nbformat": 4,
 "nbformat_minor": 2
}
