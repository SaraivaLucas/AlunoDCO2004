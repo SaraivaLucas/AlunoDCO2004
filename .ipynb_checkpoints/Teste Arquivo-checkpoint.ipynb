{
 "cells": [
  {
   "cell_type": "markdown",
   "metadata": {},
   "source": [
    "Teste do checkout.\n",
    "\n",
    "Primeiro criei um arquivo chamado \"Teste Arquivo\" no Ramo \" Teste\".\n",
    "\n",
    "Em seguida, criei um arquivo chamado \"Teste Arquivo\" no ramo \"master\".\n",
    "\n",
    "Os dois arquivos são distintos. \n",
    "\n",
    "Então tentarei dar um MERGE no ramo \"Teste\" e tentar de alguma forma conciliar os conflitos."
   ]
  },
  {
   "cell_type": "markdown",
   "metadata": {},
   "source": [
    "Resolução dos conflitos:"
   ]
  },
  {
   "cell_type": "code",
   "execution_count": null,
   "metadata": {
    "collapsed": true
   },
   "outputs": [],
   "source": []
  }
 ],
 "metadata": {
  "kernelspec": {
   "display_name": "Matlab",
   "language": "matlab",
   "name": "matlab"
  },
  "language_info": {
   "codemirror_mode": "octave",
   "file_extension": ".m",
   "help_links": [
    {
     "text": "MetaKernel Magics",
     "url": "https://github.com/calysto/metakernel/blob/master/metakernel/magics/README.md"
    }
   ],
   "mimetype": "text/x-matlab",
   "name": "matlab",
   "version": "0.14.3"
  }
 },
 "nbformat": 4,
 "nbformat_minor": 2
}
