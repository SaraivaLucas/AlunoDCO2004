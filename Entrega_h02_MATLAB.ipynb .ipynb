{
 "cells": [
  {
   "cell_type": "markdown",
   "metadata": {},
   "source": [
    "# Entregável 02 Matlab\n",
    "D01)\n",
    "Em sala foi visto a formação de audio a partir de um sinal senoidal $y(t)$ gerado no próprio Matlab. Foi tratado sobre a frequência de amostragem que significa quatas amostras de um sinal $m(t)$ qualquer será coletado até o fim do vetor de tempo. Defininfo a frequência de amostragen, frequência da onda (variável) bem como sua amplitude, pôde-se caracterizar um sinal puro (senoidal) como  mostra o script abaixo. A frequência agora foi alterada para a nota Ré a partir da multiplicação de uma constante coletada na tabela pela frequência da nota dó no próprio argumento da senoide."
   ]
  },
  {
   "cell_type": "code",
   "execution_count": 3,
   "metadata": {},
   "outputs": [
    {
     "data": {
      "image/png": "[encoded data removed]",
      "text/plain": [
       "<IPython.core.display.Image object>"
      ]
     },
     "metadata": {},
     "output_type": "display_data"
    }
   ],
   "source": [
    "clear all;close all;      % Limpa variáveis e fecha todos os gráficos\n",
    "%% Parâmetros da onda\n",
    "tf = 1;                   % Tempo de duração da nota\n",
    "fc = 512;                 % Frequência da nota Dó\n",
    "fs = 100*fc;              % Frequência de amostragem da nota. \n",
    "t = 0:1/fs:tf;            % Vetor tempo. Para cada elemento do vetor t, haverá um elemento em y correspondente.\n",
    "A = 1;                    % Amplitude do sinal\n",
    "y=A*cos(2*pi*fc*(9/8)*t); % Sinal senoidal\n",
    "p = audioplayer(y, fs);   % Reproduzir o sinal gerado\n",
    "play(p);                  % Reproduzir o sinal gerado\n",
    "pause(tf);                % Forçar uma pausa com a duração do som a ser escutado\n",
    "plot(t,y);                % Visualizar o sinal gerado  \n",
    "axis([0 0.02 -2 2 ]);     % Zoom para melhor visualização"
   ]
  },
  {
   "cell_type": "markdown",
   "metadata": {},
   "source": [
    "D02) Após conhecer o funcionamento da função soundFile(), foi coletado na pasta '/home/labsim/DCO2004_LabPSC/MATERIAL/HD_02_MATLAB' (para o meu computador) o arquivo .wav do som da guitarra. Quando executado o passo 2 da pratica 3, a amplitude do sinal de áudio foi multiplicada por 4. Isso foi evidenciado pelo gráfico da onda no tempo e peo próprio som reproduzido."
   ]
  },
  {
   "cell_type": "code",
   "execution_count": null,
   "metadata": {},
   "outputs": [],
   "source": [
    "close all;clc;clear all;                                          % Limpa variáveis e fecha todos os gráficos\n",
    "soundFile = ['/home/labsim/DCO2004_LabPSC/MATERIAL/HD_02_MATLAB/sound_01.wav'];% Especifica do local e nome do arquivo de áudio\n",
    "[vtSom, dFa] = audioread(soundFile);                              % Abre arquivo de áudio de um arquivo\n",
    "% vtSom: amplitude das amostras de som\n",
    "% dFa: frequência de amostrasgem do som (amostragem no tempo)\n",
    "vtSom = 4*vtSom;\n",
    "dta = 1/dFa;                                                      % Tempo entre amostras\n",
    "dTFinal = (length(vtSom)-1)*dta;                                  % Tempo da última amostra do sinal de áudio\n",
    "vtTSom = 0:dta:dTFinal;                                           % Eixo temporal do arquivo de áudio\n",
    "plot(vtTSom,vtSom);                                               % Plota gráfico do áudio\n",
    "set(gcf,'color',[1 1 1]);                                         % Configura área da figura\n",
    "set(gca,'FontWeight','bold','FontSize',12);                       % Configura área do gráfico\n",
    "title(['Sinal de Áudio']);                                        % Configura título do gráfico\n",
    "ylabel('Amplitude');                                              % Configura eixo X do gráfico\n",
    "xlabel('Tempo (s)');                                              % Configura eixo Y do gráfico\n",
    "p = audioplayer(vtSom, 1*dFa);                                    % Reproduzir arquivo de áudio\n",
    "play(p);      "
   ]
  },
  {
   "cell_type": "code",
   "execution_count": null,
   "metadata": {
    "collapsed": true
   },
   "outputs": [],
   "source": []
  }
 ],
 "metadata": {
  "kernelspec": {
   "display_name": "Matlab",
   "language": "matlab",
   "name": "matlab"
  },
  "language_info": {
   "codemirror_mode": "octave",
   "file_extension": ".m",
   "help_links": [
    {
     "text": "MetaKernel Magics",
     "url": "https://github.com/calysto/metakernel/blob/master/metakernel/magics/README.md"
    }
   ],
   "mimetype": "text/x-matlab",
   "name": "matlab",
   "version": "0.14.3"
  }
 },
 "nbformat": 4,
 "nbformat_minor": 2
}
