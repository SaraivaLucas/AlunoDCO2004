{
 "cells": [
  {
   "cell_type": "markdown",
   "metadata": {},
   "source": [
    "# Entregável 01\n",
    "Existem vários tipos de dados ou classes diferentes, nas quais é possivel trabalhar no MATLAB. Desde a criação de matrizes e matrizes de dados de ponto flutuante e inteiro, caracteres e strigns, estados verdadeiros ou falsos logicos.\n",
    "1) Logical:\n",
    "L = lógico (A) converte A em uma matriz de valores lógicos. Qualquer elemento diferente de zero de A é convertido em lógico 1 (verdadeiro) e os zeros são convertidos em 0 lógico (falso). Valores complexos e NaNs não podem ser convertidos em valores lógicos e resultar em um erro de conversão.\n",
    "2) Double / single:\n",
    "Convert to character array (string)\n",
    "Double (x) retorna o valor de dupla precisão para X. Se X já é uma matriz de dupla precisão, o duplo não tem efeito.\n",
    "3) Char:\n",
    "Converte para um array de caracteres\n",
    "4) "
   ]
  },
  {
   "cell_type": "code",
   "execution_count": null,
   "metadata": {
    "collapsed": true
   },
   "outputs": [],
   "source": []
  }
 ],
 "metadata": {
  "kernelspec": {
   "display_name": "Python 3",
   "language": "python",
   "name": "python3"
  },
  "language_info": {
   "codemirror_mode": {
    "name": "ipython",
    "version": 3
   },
   "file_extension": ".py",
   "mimetype": "text/x-python",
   "name": "python",
   "nbconvert_exporter": "python",
   "pygments_lexer": "ipython3",
   "version": "3.4.5"
  }
 },
 "nbformat": 4,
 "nbformat_minor": 2
}
